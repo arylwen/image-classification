{
 "cells": [
  {
   "cell_type": "markdown",
   "metadata": {
    "collapsed": true,
    "deletable": true,
    "editable": true
   },
   "source": [
    "# Image Classification\n",
    "In this project, you'll classify images from the [CIFAR-10 dataset](https://www.cs.toronto.edu/~kriz/cifar.html).  The dataset consists of airplanes, dogs, cats, and other objects. You'll preprocess the images, then train a convolutional neural network on all the samples. The images need to be normalized and the labels need to be one-hot encoded.  You'll get to apply what you learned and build a convolutional, max pooling, dropout, and fully connected layers.  At the end, you'll get to see your neural network's predictions on the sample images.\n",
    "## Get the Data\n",
    "Run the following cell to download the [CIFAR-10 dataset for python](https://www.cs.toronto.edu/~kriz/cifar-10-python.tar.gz)."
   ]
  },
  {
   "cell_type": "code",
   "execution_count": 1,
   "metadata": {
    "collapsed": false,
    "deletable": true,
    "editable": true
   },
   "outputs": [
    {
     "name": "stdout",
     "output_type": "stream",
     "text": [
      "All files found!\n"
     ]
    }
   ],
   "source": [
    "\"\"\"\n",
    "DON'T MODIFY ANYTHING IN THIS CELL THAT IS BELOW THIS LINE\n",
    "\"\"\"\n",
    "from urllib.request import urlretrieve\n",
    "from os.path import isfile, isdir\n",
    "from tqdm import tqdm\n",
    "import problem_unittests as tests\n",
    "import tarfile\n",
    "\n",
    "cifar10_dataset_folder_path = 'cifar-10-batches-py'\n",
    "\n",
    "# Use Floyd's cifar-10 dataset if present\n",
    "floyd_cifar10_location = '/cifar/cifar-10-python.tar.gz'\n",
    "if isfile(floyd_cifar10_location):\n",
    "    tar_gz_path = floyd_cifar10_location\n",
    "else:\n",
    "    tar_gz_path = 'cifar-10-python.tar.gz'\n",
    "\n",
    "class DLProgress(tqdm):\n",
    "    last_block = 0\n",
    "\n",
    "    def hook(self, block_num=1, block_size=1, total_size=None):\n",
    "        self.total = total_size\n",
    "        self.update((block_num - self.last_block) * block_size)\n",
    "        self.last_block = block_num\n",
    "\n",
    "if not isfile(tar_gz_path):\n",
    "    with DLProgress(unit='B', unit_scale=True, miniters=1, desc='CIFAR-10 Dataset') as pbar:\n",
    "        urlretrieve(\n",
    "            'https://www.cs.toronto.edu/~kriz/cifar-10-python.tar.gz',\n",
    "            tar_gz_path,\n",
    "            pbar.hook)\n",
    "\n",
    "if not isdir(cifar10_dataset_folder_path):\n",
    "    with tarfile.open(tar_gz_path) as tar:\n",
    "        tar.extractall()\n",
    "        tar.close()\n",
    "\n",
    "\n",
    "tests.test_folder_path(cifar10_dataset_folder_path)"
   ]
  },
  {
   "cell_type": "markdown",
   "metadata": {
    "deletable": true,
    "editable": true
   },
   "source": [
    "## Explore the Data\n",
    "The dataset is broken into batches to prevent your machine from running out of memory.  The CIFAR-10 dataset consists of 5 batches, named `data_batch_1`, `data_batch_2`, etc.. Each batch contains the labels and images that are one of the following:\n",
    "* airplane\n",
    "* automobile\n",
    "* bird\n",
    "* cat\n",
    "* deer\n",
    "* dog\n",
    "* frog\n",
    "* horse\n",
    "* ship\n",
    "* truck\n",
    "\n",
    "Understanding a dataset is part of making predictions on the data.  Play around with the code cell below by changing the `batch_id` and `sample_id`. The `batch_id` is the id for a batch (1-5). The `sample_id` is the id for a image and label pair in the batch.\n",
    "\n",
    "Ask yourself \"What are all possible labels?\", \"What is the range of values for the image data?\", \"Are the labels in order or random?\".  Answers to questions like these will help you preprocess the data and end up with better predictions."
   ]
  },
  {
   "cell_type": "code",
   "execution_count": 2,
   "metadata": {
    "collapsed": false,
    "deletable": true,
    "editable": true
   },
   "outputs": [
    {
     "name": "stdout",
     "output_type": "stream",
     "text": [
      "\n",
      "Stats of batch 1:\n",
      "Samples: 10000\n",
      "Label Counts: {0: 1005, 1: 974, 2: 1032, 3: 1016, 4: 999, 5: 937, 6: 1030, 7: 1001, 8: 1025, 9: 981}\n",
      "First 20 Labels: [6, 9, 9, 4, 1, 1, 2, 7, 8, 3, 4, 7, 7, 2, 9, 9, 9, 3, 2, 6]\n",
      "\n",
      "Example of Image 5:\n",
      "Image - Min Value: 0 Max Value: 252\n",
      "Image - Shape: (32, 32, 3)\n",
      "Label - Label Id: 1 Name: automobile\n"
     ]
    },
    {
     "data": {
      "image/png": "[encoded data removed]",
      "text/plain": [
       "<matplotlib.figure.Figure at 0x7ff140557908>"
      ]
     },
     "metadata": {
      "image/png": {
       "height": 250,
       "width": 253
      }
     },
     "output_type": "display_data"
    }
   ],
   "source": [
    "%matplotlib inline\n",
    "%config InlineBackend.figure_format = 'retina'\n",
    "\n",
    "import helper\n",
    "import numpy as np\n",
    "\n",
    "# Explore the dataset\n",
    "batch_id = 1\n",
    "sample_id = 5\n",
    "helper.display_stats(cifar10_dataset_folder_path, batch_id, sample_id)"
   ]
  },
  {
   "cell_type": "markdown",
   "metadata": {
    "deletable": true,
    "editable": true
   },
   "source": [
    "## Implement Preprocess Functions\n",
    "### Normalize\n",
    "In the cell below, implement the `normalize` function to take in image data, `x`, and return it as a normalized Numpy array. The values should be in the range of 0 to 1, inclusive.  The return object should be the same shape as `x`."
   ]
  },
  {
   "cell_type": "code",
   "execution_count": 3,
   "metadata": {
    "collapsed": false,
    "deletable": true,
    "editable": true
   },
   "outputs": [
    {
     "name": "stdout",
     "output_type": "stream",
     "text": [
      "Tests Passed\n"
     ]
    }
   ],
   "source": [
    "def normalize(x):\n",
    "    \"\"\"\n",
    "    Normalize a list of sample image data in the range of 0 to 1\n",
    "    : x: List of image data.  The image shape is (32, 32, 3)\n",
    "    : return: Numpy array of normalize data\n",
    "    \"\"\"\n",
    "\n",
    "    nr_images = x.shape[0]\n",
    "    # Find max/min \n",
    "    vmax, vmin = x.max(), x.min()\n",
    "    # Transform images    \n",
    "    n_x = [(x[img_idx, ...] - float(vmin)) / float(vmax - vmin) for img_idx in range(nr_images)]    \n",
    "    return np.array(n_x)\n",
    "\n",
    "\n",
    "\"\"\"\n",
    "DON'T MODIFY ANYTHING IN THIS CELL THAT IS BELOW THIS LINE\n",
    "\"\"\"\n",
    "tests.test_normalize(normalize)"
   ]
  },
  {
   "cell_type": "markdown",
   "metadata": {
    "deletable": true,
    "editable": true
   },
   "source": [
    "### One-hot encode\n",
    "Just like the previous code cell, you'll be implementing a function for preprocessing.  This time, you'll implement the `one_hot_encode` function. The input, `x`, are a list of labels.  Implement the function to return the list of labels as One-Hot encoded Numpy array.  The possible values for labels are 0 to 9. The one-hot encoding function should return the same encoding for each value between each call to `one_hot_encode`.  Make sure to save the map of encodings outside the function.\n",
    "\n",
    "Hint: Don't reinvent the wheel."
   ]
  },
  {
   "cell_type": "code",
   "execution_count": 4,
   "metadata": {
    "collapsed": false,
    "deletable": true,
    "editable": true
   },
   "outputs": [
    {
     "name": "stdout",
     "output_type": "stream",
     "text": [
      "Tests Passed\n"
     ]
    }
   ],
   "source": [
    "def one_hot_encode(x):\n",
    "    \"\"\"\n",
    "    One hot encode a list of sample labels. Return a one-hot encoded vector for each label.\n",
    "    : x: List of sample Labels\n",
    "    : return: Numpy array of one-hot encoded labels\n",
    "    \"\"\"\n",
    "    #possible values are 0-9\n",
    "    n_values = 10\n",
    "    from sklearn.preprocessing import OneHotEncoder\n",
    "    enc = OneHotEncoder(n_values=n_values)   \n",
    "    #we're expecting a list; reshape if not\n",
    "    ohe_labels = enc.fit_transform(np.array(x).reshape(-1, 1)).toarray()\n",
    "    return ohe_labels\n",
    "\n",
    "\n",
    "\"\"\"\n",
    "DON'T MODIFY ANYTHING IN THIS CELL THAT IS BELOW THIS LINE\n",
    "\"\"\"\n",
    "tests.test_one_hot_encode(one_hot_encode)"
   ]
  },
  {
   "cell_type": "markdown",
   "metadata": {
    "deletable": true,
    "editable": true
   },
   "source": [
    "### Randomize Data\n",
    "As you saw from exploring the data above, the order of the samples are randomized.  It doesn't hurt to randomize it again, but you don't need to for this dataset."
   ]
  },
  {
   "cell_type": "markdown",
   "metadata": {
    "deletable": true,
    "editable": true
   },
   "source": [
    "## Preprocess all the data and save it\n",
    "Running the code cell below will preprocess all the CIFAR-10 data and save it to file. The code below also uses 10% of the training data for validation."
   ]
  },
  {
   "cell_type": "code",
   "execution_count": 5,
   "metadata": {
    "collapsed": true,
    "deletable": true,
    "editable": true
   },
   "outputs": [],
   "source": [
    "\"\"\"\n",
    "DON'T MODIFY ANYTHING IN THIS CELL\n",
    "\"\"\"\n",
    "# Preprocess Training, Validation, and Testing Data\n",
    "helper.preprocess_and_save_data(cifar10_dataset_folder_path, normalize, one_hot_encode)"
   ]
  },
  {
   "cell_type": "markdown",
   "metadata": {
    "deletable": true,
    "editable": true
   },
   "source": [
    "# Check Point\n",
    "This is your first checkpoint.  If you ever decide to come back to this notebook or have to restart the notebook, you can start from here.  The preprocessed data has been saved to disk."
   ]
  },
  {
   "cell_type": "code",
   "execution_count": 13,
   "metadata": {
    "collapsed": true,
    "deletable": true,
    "editable": true
   },
   "outputs": [],
   "source": [
    "\"\"\"\n",
    "DON'T MODIFY ANYTHING IN THIS CELL\n",
    "\"\"\"\n",
    "import pickle\n",
    "import problem_unittests as tests\n",
    "import helper\n",
    "\n",
    "# Load the Preprocessed Validation data\n",
    "valid_features, valid_labels = pickle.load(open('preprocess_validation.p', mode='rb'))"
   ]
  },
  {
   "cell_type": "markdown",
   "metadata": {
    "deletable": true,
    "editable": true
   },
   "source": [
    "## Build the network\n",
    "For the neural network, you'll build each layer into a function.  Most of the code you've seen has been outside of functions. To test your code more thoroughly, we require that you put each layer in a function.  This allows us to give you better feedback and test for simple mistakes using our unittests before you submit your project.\n",
    "\n",
    ">**Note:** If you're finding it hard to dedicate enough time for this course each week, we've provided a small shortcut to this part of the project. In the next couple of problems, you'll have the option to use classes from the [TensorFlow Layers](https://www.tensorflow.org/api_docs/python/tf/layers) or [TensorFlow Layers (contrib)](https://www.tensorflow.org/api_guides/python/contrib.layers) packages to build each layer, except the layers you build in the \"Convolutional and Max Pooling Layer\" section.  TF Layers is similar to Keras's and TFLearn's abstraction to layers, so it's easy to pickup.\n",
    "\n",
    ">However, if you would like to get the most out of this course, try to solve all the problems _without_ using anything from the TF Layers packages. You **can** still use classes from other packages that happen to have the same name as ones you find in TF Layers! For example, instead of using the TF Layers version of the `conv2d` class, [tf.layers.conv2d](https://www.tensorflow.org/api_docs/python/tf/layers/conv2d), you would want to use the TF Neural Network version of `conv2d`, [tf.nn.conv2d](https://www.tensorflow.org/api_docs/python/tf/nn/conv2d). \n",
    "\n",
    "Let's begin!\n",
    "\n",
    "### Input\n",
    "The neural network needs to read the image data, one-hot encoded labels, and dropout keep probability. Implement the following functions\n",
    "* Implement `neural_net_image_input`\n",
    " * Return a [TF Placeholder](https://www.tensorflow.org/api_docs/python/tf/placeholder)\n",
    " * Set the shape using `image_shape` with batch size set to `None`.\n",
    " * Name the TensorFlow placeholder \"x\" using the TensorFlow `name` parameter in the [TF Placeholder](https://www.tensorflow.org/api_docs/python/tf/placeholder).\n",
    "* Implement `neural_net_label_input`\n",
    " * Return a [TF Placeholder](https://www.tensorflow.org/api_docs/python/tf/placeholder)\n",
    " * Set the shape using `n_classes` with batch size set to `None`.\n",
    " * Name the TensorFlow placeholder \"y\" using the TensorFlow `name` parameter in the [TF Placeholder](https://www.tensorflow.org/api_docs/python/tf/placeholder).\n",
    "* Implement `neural_net_keep_prob_input`\n",
    " * Return a [TF Placeholder](https://www.tensorflow.org/api_docs/python/tf/placeholder) for dropout keep probability.\n",
    " * Name the TensorFlow placeholder \"keep_prob\" using the TensorFlow `name` parameter in the [TF Placeholder](https://www.tensorflow.org/api_docs/python/tf/placeholder).\n",
    "\n",
    "These names will be used at the end of the project to load your saved model.\n",
    "\n",
    "Note: `None` for shapes in TensorFlow allow for a dynamic size."
   ]
  },
  {
   "cell_type": "code",
   "execution_count": 14,
   "metadata": {
    "collapsed": false,
    "deletable": true,
    "editable": true
   },
   "outputs": [
    {
     "name": "stdout",
     "output_type": "stream",
     "text": [
      "Image Input Tests Passed.\n",
      "Label Input Tests Passed.\n",
      "Keep Prob Tests Passed.\n"
     ]
    }
   ],
   "source": [
    "import tensorflow as tf\n",
    "\n",
    "def neural_net_image_input(image_shape):\n",
    "    \"\"\"\n",
    "    Return a Tensor for a batch of image input\n",
    "    : image_shape: Shape of the images\n",
    "    : return: Tensor for image input.\n",
    "    \"\"\"\n",
    "    # TODO: Implement Function\n",
    "    return tf.placeholder(tf.float32, [None] + list(image_shape), \"x\")\n",
    "\n",
    "\n",
    "def neural_net_label_input(n_classes):\n",
    "    \"\"\"\n",
    "    Return a Tensor for a batch of label input\n",
    "    : n_classes: Number of classes\n",
    "    : return: Tensor for label input.\n",
    "    \"\"\"\n",
    "    # TODO: Implement Function\n",
    "    return tf.placeholder(tf.float32, [None, n_classes], \"y\")\n",
    "\n",
    "\n",
    "def neural_net_keep_prob_input():\n",
    "    \"\"\"\n",
    "    Return a Tensor for keep probability\n",
    "    : return: Tensor for keep probability.\n",
    "    \"\"\"\n",
    "    # TODO: Implement Function\n",
    "    return tf.placeholder(tf.float32, None, \"keep_prob\")\n",
    "\n",
    "\n",
    "\"\"\"\n",
    "DON'T MODIFY ANYTHING IN THIS CELL THAT IS BELOW THIS LINE\n",
    "\"\"\"\n",
    "tf.reset_default_graph()\n",
    "tests.test_nn_image_inputs(neural_net_image_input)\n",
    "tests.test_nn_label_inputs(neural_net_label_input)\n",
    "tests.test_nn_keep_prob_inputs(neural_net_keep_prob_input)"
   ]
  },
  {
   "cell_type": "markdown",
   "metadata": {
    "deletable": true,
    "editable": true
   },
   "source": [
    "### Convolution and Max Pooling Layer\n",
    "Convolution layers have a lot of success with images. For this code cell, you should implement the function `conv2d_maxpool` to apply convolution then max pooling:\n",
    "* Create the weight and bias using `conv_ksize`, `conv_num_outputs` and the shape of `x_tensor`.\n",
    "* Apply a convolution to `x_tensor` using weight and `conv_strides`.\n",
    " * We recommend you use same padding, but you're welcome to use any padding.\n",
    "* Add bias\n",
    "* Add a nonlinear activation to the convolution.\n",
    "* Apply Max Pooling using `pool_ksize` and `pool_strides`.\n",
    " * We recommend you use same padding, but you're welcome to use any padding.\n",
    "\n",
    "**Note:** You **can't** use [TensorFlow Layers](https://www.tensorflow.org/api_docs/python/tf/layers) or [TensorFlow Layers (contrib)](https://www.tensorflow.org/api_guides/python/contrib.layers) for **this** layer, but you can still use TensorFlow's [Neural Network](https://www.tensorflow.org/api_docs/python/tf/nn) package. You may still use the shortcut option for all the **other** layers."
   ]
  },
  {
   "cell_type": "code",
   "execution_count": 15,
   "metadata": {
    "collapsed": false,
    "deletable": true,
    "editable": true
   },
   "outputs": [
    {
     "name": "stdout",
     "output_type": "stream",
     "text": [
      "Tests Passed\n"
     ]
    }
   ],
   "source": [
    "def conv2d_maxpool(x_tensor, conv_num_outputs, conv_ksize, conv_strides, pool_ksize, pool_strides):\n",
    "    \"\"\"\n",
    "    Apply convolution then max pooling to x_tensor\n",
    "    :param x_tensor: TensorFlow Tensor\n",
    "    :param conv_num_outputs: Number of outputs for the convolutional layer\n",
    "    :param conv_ksize: kernal size 2-D Tuple for the convolutional layer\n",
    "    :param conv_strides: Stride 2-D Tuple for convolution\n",
    "    :param pool_ksize: kernal size 2-D Tuple for pool\n",
    "    :param pool_strides: Stride 2-D Tuple for pool\n",
    "    : return: A tensor that represents convolution and max pooling of x_tensor\n",
    "    \"\"\"\n",
    "    \n",
    "    stddev = 0.05\n",
    "    conv_padding = 'SAME'\n",
    "    \n",
    "    weights_shape = list(conv_ksize + (x_tensor.get_shape().as_list()[-1],) + (conv_num_outputs,))\n",
    "    #print(weights_shape)\n",
    "    \n",
    "    # Initialize variables\n",
    "    weights = tf.Variable(tf.truncated_normal(weights_shape, stddev=stddev))\n",
    "    bias = tf.Variable(tf.zeros(conv_num_outputs))\n",
    "    \n",
    "    # 2D Convolution \n",
    "    conv = tf.nn.conv2d(x_tensor, weights, \n",
    "                          strides=[1, conv_strides[0], conv_strides[1], 1],\n",
    "                          padding=conv_padding)\n",
    "    conv = tf.nn.bias_add(conv, bias)\n",
    "    conv = tf.nn.relu(conv)\n",
    "    \n",
    "    # Pooling\n",
    "    out = tf.nn.max_pool(conv, \n",
    "                            ksize=[1, pool_ksize[0], pool_ksize[1], 1], \n",
    "                            strides=[1, pool_strides[0], pool_strides[1], 1],\n",
    "                            padding='SAME')                                  \n",
    "    return out\n",
    "\n",
    "\n",
    "\"\"\"\n",
    "DON'T MODIFY ANYTHING IN THIS CELL THAT IS BELOW THIS LINE\n",
    "\"\"\"\n",
    "tests.test_con_pool(conv2d_maxpool)"
   ]
  },
  {
   "cell_type": "markdown",
   "metadata": {
    "deletable": true,
    "editable": true
   },
   "source": [
    "### Flatten Layer\n",
    "Implement the `flatten` function to change the dimension of `x_tensor` from a 4-D tensor to a 2-D tensor.  The output should be the shape (*Batch Size*, *Flattened Image Size*). Shortcut option: you can use classes from the [TensorFlow Layers](https://www.tensorflow.org/api_docs/python/tf/layers) or [TensorFlow Layers (contrib)](https://www.tensorflow.org/api_guides/python/contrib.layers) packages for this layer. For more of a challenge, only use other TensorFlow packages."
   ]
  },
  {
   "cell_type": "code",
   "execution_count": 16,
   "metadata": {
    "collapsed": false,
    "deletable": true,
    "editable": true
   },
   "outputs": [
    {
     "name": "stdout",
     "output_type": "stream",
     "text": [
      "Tests Passed\n"
     ]
    }
   ],
   "source": [
    "def flatten(x_tensor):\n",
    "    \"\"\"\n",
    "    Flatten x_tensor to (Batch Size, Flattened Image Size)\n",
    "    : x_tensor: A tensor of size (Batch Size, ...), where ... are the image dimensions.\n",
    "    : return: A tensor of size (Batch Size, Flattened Image Size).\n",
    "    \"\"\"\n",
    "    \n",
    "    \n",
    "    x_shape = x_tensor.get_shape().as_list()\n",
    "    # x_tensor[0] is batch size; the dim of the feature array is the product of the dims of the remaining \"cube\"\n",
    "    flat_shape = np.array(x_shape[1:]).prod()\n",
    "    \n",
    "    return tf.reshape(x_tensor, [tf.shape(x_tensor)[0], flat_shape])\n",
    "\n",
    "\n",
    "\n",
    "\"\"\"\n",
    "DON'T MODIFY ANYTHING IN THIS CELL THAT IS BELOW THIS LINE\n",
    "\"\"\"\n",
    "tests.test_flatten(flatten)"
   ]
  },
  {
   "cell_type": "markdown",
   "metadata": {
    "deletable": true,
    "editable": true
   },
   "source": [
    "### Fully-Connected Layer\n",
    "Implement the `fully_conn` function to apply a fully connected layer to `x_tensor` with the shape (*Batch Size*, *num_outputs*). Shortcut option: you can use classes from the [TensorFlow Layers](https://www.tensorflow.org/api_docs/python/tf/layers) or [TensorFlow Layers (contrib)](https://www.tensorflow.org/api_guides/python/contrib.layers) packages for this layer. For more of a challenge, only use other TensorFlow packages."
   ]
  },
  {
   "cell_type": "code",
   "execution_count": 17,
   "metadata": {
    "collapsed": false,
    "deletable": true,
    "editable": true
   },
   "outputs": [
    {
     "name": "stdout",
     "output_type": "stream",
     "text": [
      "Tests Passed\n"
     ]
    }
   ],
   "source": [
    "def fully_conn(x_tensor, num_outputs):\n",
    "    \"\"\"\n",
    "    Apply a fully connected layer to x_tensor using weight and bias\n",
    "    : x_tensor: A 2-D tensor where the first dimension is batch size.\n",
    "    : num_outputs: The number of output that the new tensor should be.\n",
    "    : return: A 2-D tensor where the second dimension is num_outputs.\n",
    "    \"\"\"\n",
    "    \n",
    "    #num_features is the last dimension of the array\n",
    "    num_features = x_tensor.get_shape().as_list()[-1]\n",
    "    \n",
    "    weights = tf.Variable(tf.truncated_normal([num_features, num_outputs], stddev=0.03))\n",
    "    bias = tf.Variable(tf.zeros([num_outputs]))\n",
    "    \n",
    "    # Fully connected layer.\n",
    "    fcl = tf.nn.relu(tf.add(tf.matmul(x_tensor, weights), bias))        \n",
    "     \n",
    "    return fcl\n",
    "\n",
    "\n",
    "\"\"\"\n",
    "DON'T MODIFY ANYTHING IN THIS CELL THAT IS BELOW THIS LINE\n",
    "\"\"\"\n",
    "tests.test_fully_conn(fully_conn)"
   ]
  },
  {
   "cell_type": "markdown",
   "metadata": {
    "deletable": true,
    "editable": true
   },
   "source": [
    "### Output Layer\n",
    "Implement the `output` function to apply a fully connected layer to `x_tensor` with the shape (*Batch Size*, *num_outputs*). Shortcut option: you can use classes from the [TensorFlow Layers](https://www.tensorflow.org/api_docs/python/tf/layers) or [TensorFlow Layers (contrib)](https://www.tensorflow.org/api_guides/python/contrib.layers) packages for this layer. For more of a challenge, only use other TensorFlow packages.\n",
    "\n",
    "**Note:** Activation, softmax, or cross entropy should **not** be applied to this."
   ]
  },
  {
   "cell_type": "code",
   "execution_count": 18,
   "metadata": {
    "collapsed": false,
    "deletable": true,
    "editable": true
   },
   "outputs": [
    {
     "name": "stdout",
     "output_type": "stream",
     "text": [
      "Tests Passed\n"
     ]
    }
   ],
   "source": [
    "def output(x_tensor, num_outputs):\n",
    "    \"\"\"\n",
    "    Apply a output layer to x_tensor using weight and bias\n",
    "    : x_tensor: A 2-D tensor where the first dimension is batch size.\n",
    "    : num_outputs: The number of output that the new tensor should be.\n",
    "    : return: A 2-D tensor where the second dimension is num_outputs.\n",
    "    \"\"\"\n",
    "    #num_features is the last dimension of the array\n",
    "    num_features = x_tensor.get_shape().as_list()[-1]\n",
    "    \n",
    "    weights = tf.Variable(tf.truncated_normal([num_features, num_outputs], stddev=0.03))\n",
    "    bias = tf.Variable(tf.zeros([num_outputs]))\n",
    "    \n",
    "    # Fully connected layer.\n",
    "    ol = tf.add(tf.matmul(x_tensor, weights), bias)        \n",
    "     \n",
    "    return ol\n",
    "\n",
    "\n",
    "\n",
    "\"\"\"\n",
    "DON'T MODIFY ANYTHING IN THIS CELL THAT IS BELOW THIS LINE\n",
    "\"\"\"\n",
    "tests.test_output(output)"
   ]
  },
  {
   "cell_type": "markdown",
   "metadata": {
    "deletable": true,
    "editable": true
   },
   "source": [
    "### Create Convolutional Model\n",
    "Implement the function `conv_net` to create a convolutional neural network model. The function takes in a batch of images, `x`, and outputs logits.  Use the layers you created above to create this model:\n",
    "\n",
    "* Apply 1, 2, or 3 Convolution and Max Pool layers\n",
    "* Apply a Flatten Layer\n",
    "* Apply 1, 2, or 3 Fully Connected Layers\n",
    "* Apply an Output Layer\n",
    "* Return the output\n",
    "* Apply [TensorFlow's Dropout](https://www.tensorflow.org/api_docs/python/tf/nn/dropout) to one or more layers in the model using `keep_prob`. "
   ]
  },
  {
   "cell_type": "code",
   "execution_count": 19,
   "metadata": {
    "collapsed": false,
    "deletable": true,
    "editable": true
   },
   "outputs": [
    {
     "name": "stdout",
     "output_type": "stream",
     "text": [
      "Neural Network Built!\n"
     ]
    }
   ],
   "source": [
    "def conv_net(x, keep_prob):\n",
    "    \"\"\"\n",
    "    Create a convolutional neural network model\n",
    "    : x: Placeholder tensor that holds image data.\n",
    "    : keep_prob: Placeholder tensor that hold dropout keep probability.\n",
    "    : return: Tensor that represents logits\n",
    "    \"\"\"\n",
    "    # TODO: Apply 1, 2, or 3 Convolution and Max Pool layers\n",
    "    #    Play around with different number of outputs, kernel size and stride\n",
    "    # Function Definition from Above:\n",
    "    #    conv2d_maxpool(x_tensor, conv_num_outputs, conv_ksize, conv_strides, pool_ksize, pool_strides)\n",
    "    \n",
    "    conv1 = conv2d_maxpool(x,\n",
    "                           conv_num_outputs=64,\n",
    "                           conv_ksize=(5,5),\n",
    "                           conv_strides=(1,1),\n",
    "                           pool_ksize=(3,3),\n",
    "                           pool_strides=(2,2))\n",
    "    \n",
    "    conv2 = conv2d_maxpool(conv1,\n",
    "                          conv_num_outputs=64,\n",
    "                          conv_ksize=(5,5),\n",
    "                          conv_strides=(1,1),\n",
    "                          pool_ksize=(3,3),\n",
    "                          pool_strides=(2,2))\n",
    "\n",
    "    conv_out = conv2\n",
    "    # TODO: Apply a Flatten Layer\n",
    "    # Function Definition from Above:\n",
    "    #   flatten(x_tensor)\n",
    "    fl = flatten(conv_out)\n",
    "\n",
    "    # TODO: Apply 1, 2, or 3 Fully Connected Layers\n",
    "    #    Play around with different number of outputs\n",
    "    # Function Definition from Above:\n",
    "    #   fully_conn(x_tensor, num_outputs)\n",
    "    fc1 = fully_conn(fl, 384)\n",
    "    fc2 = fully_conn(fc1, 192)\n",
    "    \n",
    "    fc_out = fc2\n",
    "    # TODO: Apply an Output Layer\n",
    "    #    Set this to the number of classes\n",
    "    # Function Definition from Above:\n",
    "    #   output(x_tensor, num_outputs)\n",
    "    dout = tf.nn.dropout(fc_out, keep_prob)\n",
    "    \n",
    "    # TODO: return output\n",
    "    return output(dout, 10)\n",
    "\n",
    "\n",
    "\"\"\"\n",
    "DON'T MODIFY ANYTHING IN THIS CELL THAT IS BELOW THIS LINE\n",
    "\"\"\"\n",
    "\n",
    "##############################\n",
    "## Build the Neural Network ##\n",
    "##############################\n",
    "\n",
    "# Remove previous weights, bias, inputs, etc..\n",
    "tf.reset_default_graph()\n",
    "\n",
    "# Inputs\n",
    "x = neural_net_image_input((32, 32, 3))\n",
    "y = neural_net_label_input(10)\n",
    "keep_prob = neural_net_keep_prob_input()\n",
    "\n",
    "# Model\n",
    "logits = conv_net(x, keep_prob)\n",
    "\n",
    "# Name logits Tensor, so that is can be loaded from disk after training\n",
    "logits = tf.identity(logits, name='logits')\n",
    "\n",
    "# Loss and Optimizer\n",
    "cost = tf.reduce_mean(tf.nn.softmax_cross_entropy_with_logits(logits=logits, labels=y))\n",
    "optimizer = tf.train.AdamOptimizer().minimize(cost)\n",
    "\n",
    "# Accuracy\n",
    "correct_pred = tf.equal(tf.argmax(logits, 1), tf.argmax(y, 1))\n",
    "accuracy = tf.reduce_mean(tf.cast(correct_pred, tf.float32), name='accuracy')\n",
    "\n",
    "tests.test_conv_net(conv_net)"
   ]
  },
  {
   "cell_type": "markdown",
   "metadata": {
    "deletable": true,
    "editable": true
   },
   "source": [
    "## Train the Neural Network\n",
    "### Single Optimization\n",
    "Implement the function `train_neural_network` to do a single optimization.  The optimization should use `optimizer` to optimize in `session` with a `feed_dict` of the following:\n",
    "* `x` for image input\n",
    "* `y` for labels\n",
    "* `keep_prob` for keep probability for dropout\n",
    "\n",
    "This function will be called for each batch, so `tf.global_variables_initializer()` has already been called.\n",
    "\n",
    "Note: Nothing needs to be returned. This function is only optimizing the neural network."
   ]
  },
  {
   "cell_type": "code",
   "execution_count": 20,
   "metadata": {
    "collapsed": false,
    "deletable": true,
    "editable": true
   },
   "outputs": [
    {
     "name": "stdout",
     "output_type": "stream",
     "text": [
      "Tests Passed\n"
     ]
    }
   ],
   "source": [
    "def train_neural_network(session, optimizer, keep_probability, feature_batch, label_batch):\n",
    "    \"\"\"\n",
    "    Optimize the session on a batch of images and labels\n",
    "    : session: Current TensorFlow session\n",
    "    : optimizer: TensorFlow optimizer function\n",
    "    : keep_probability: keep probability\n",
    "    : feature_batch: Batch of Numpy image data\n",
    "    : label_batch: Batch of Numpy label data\n",
    "    \"\"\"\n",
    "    session.run(optimizer, feed_dict={x: feature_batch,\n",
    "                                      y: label_batch,\n",
    "                                      keep_prob: keep_probability})\n",
    "\n",
    "\n",
    "\"\"\"\n",
    "DON'T MODIFY ANYTHING IN THIS CELL THAT IS BELOW THIS LINE\n",
    "\"\"\"\n",
    "tests.test_train_nn(train_neural_network)"
   ]
  },
  {
   "cell_type": "markdown",
   "metadata": {
    "deletable": true,
    "editable": true
   },
   "source": [
    "### Show Stats\n",
    "Implement the function `print_stats` to print loss and validation accuracy.  Use the global variables `valid_features` and `valid_labels` to calculate validation accuracy.  Use a keep probability of `1.0` to calculate the loss and validation accuracy."
   ]
  },
  {
   "cell_type": "code",
   "execution_count": 21,
   "metadata": {
    "collapsed": true,
    "deletable": true,
    "editable": true
   },
   "outputs": [],
   "source": [
    "def print_stats(session, feature_batch, label_batch, cost, accuracy):\n",
    "    \"\"\"\n",
    "    Print information about loss and validation accuracy\n",
    "    : session: Current TensorFlow session\n",
    "    : feature_batch: Batch of Numpy image data\n",
    "    : label_batch: Batch of Numpy label data\n",
    "    : cost: TensorFlow cost function\n",
    "    : accuracy: TensorFlow accuracy function\n",
    "    \"\"\"\n",
    "    loss = sess.run(cost, feed_dict={x: feature_batch,\n",
    "                                     y: label_batch,\n",
    "                                     keep_prob: 1.})\n",
    "    valid_acc = sess.run(accuracy, feed_dict={x: valid_features,\n",
    "                                              y: valid_labels,\n",
    "                                              keep_prob: 1.})\n",
    "\n",
    "    print('Loss: {:>10.4f} Validation Accuracy: {:.6f}'.format(loss, valid_acc))"
   ]
  },
  {
   "cell_type": "markdown",
   "metadata": {
    "deletable": true,
    "editable": true
   },
   "source": [
    "### Hyperparameters\n",
    "Tune the following parameters:\n",
    "* Set `epochs` to the number of iterations until the network stops learning or start overfitting\n",
    "* Set `batch_size` to the highest number that your machine has memory for.  Most people set them to common sizes of memory:\n",
    " * 64\n",
    " * 128\n",
    " * 256\n",
    " * ...\n",
    "* Set `keep_probability` to the probability of keeping a node using dropout"
   ]
  },
  {
   "cell_type": "code",
   "execution_count": 22,
   "metadata": {
    "collapsed": true,
    "deletable": true,
    "editable": true
   },
   "outputs": [],
   "source": [
    "# TODO: Tune Parameters\n",
    "epochs = 50\n",
    "batch_size = 1024\n",
    "keep_probability = 0.75"
   ]
  },
  {
   "cell_type": "markdown",
   "metadata": {
    "deletable": true,
    "editable": true
   },
   "source": [
    "### Train on a Single CIFAR-10 Batch\n",
    "Instead of training the neural network on all the CIFAR-10 batches of data, let's use a single batch. This should save time while you iterate on the model to get a better accuracy.  Once the final validation accuracy is 50% or greater, run the model on all the data in the next section."
   ]
  },
  {
   "cell_type": "code",
   "execution_count": 23,
   "metadata": {
    "collapsed": false,
    "deletable": true,
    "editable": true
   },
   "outputs": [
    {
     "name": "stdout",
     "output_type": "stream",
     "text": [
      "Checking the Training on a Single Batch...\n",
      "Epoch  1, CIFAR-10 Batch 1:  Loss:     2.1598 Validation Accuracy: 0.177400\n",
      "Epoch  2, CIFAR-10 Batch 1:  Loss:     1.9282 Validation Accuracy: 0.290800\n",
      "Epoch  3, CIFAR-10 Batch 1:  Loss:     1.7880 Validation Accuracy: 0.352800\n",
      "Epoch  4, CIFAR-10 Batch 1:  Loss:     1.6775 Validation Accuracy: 0.381600\n",
      "Epoch  5, CIFAR-10 Batch 1:  Loss:     1.6099 Validation Accuracy: 0.411200\n",
      "Epoch  6, CIFAR-10 Batch 1:  Loss:     1.4935 Validation Accuracy: 0.437800\n",
      "Epoch  7, CIFAR-10 Batch 1:  Loss:     1.4439 Validation Accuracy: 0.458200\n",
      "Epoch  8, CIFAR-10 Batch 1:  Loss:     1.4040 Validation Accuracy: 0.484200\n",
      "Epoch  9, CIFAR-10 Batch 1:  Loss:     1.3326 Validation Accuracy: 0.493000\n",
      "Epoch 10, CIFAR-10 Batch 1:  Loss:     1.2751 Validation Accuracy: 0.511600\n",
      "Epoch 11, CIFAR-10 Batch 1:  Loss:     1.2273 Validation Accuracy: 0.520800\n",
      "Epoch 12, CIFAR-10 Batch 1:  Loss:     1.1881 Validation Accuracy: 0.531800\n",
      "Epoch 13, CIFAR-10 Batch 1:  Loss:     1.2098 Validation Accuracy: 0.521600\n",
      "Epoch 14, CIFAR-10 Batch 1:  Loss:     1.1330 Validation Accuracy: 0.542000\n",
      "Epoch 15, CIFAR-10 Batch 1:  Loss:     1.0807 Validation Accuracy: 0.561400\n",
      "Epoch 16, CIFAR-10 Batch 1:  Loss:     1.1148 Validation Accuracy: 0.542200\n",
      "Epoch 17, CIFAR-10 Batch 1:  Loss:     1.0771 Validation Accuracy: 0.558400\n",
      "Epoch 18, CIFAR-10 Batch 1:  Loss:     0.9993 Validation Accuracy: 0.567400\n",
      "Epoch 19, CIFAR-10 Batch 1:  Loss:     0.9609 Validation Accuracy: 0.575000\n",
      "Epoch 20, CIFAR-10 Batch 1:  Loss:     0.9166 Validation Accuracy: 0.586000\n",
      "Epoch 21, CIFAR-10 Batch 1:  Loss:     0.8801 Validation Accuracy: 0.592800\n",
      "Epoch 22, CIFAR-10 Batch 1:  Loss:     0.8775 Validation Accuracy: 0.594800\n",
      "Epoch 23, CIFAR-10 Batch 1:  Loss:     0.8910 Validation Accuracy: 0.585600\n",
      "Epoch 24, CIFAR-10 Batch 1:  Loss:     0.8504 Validation Accuracy: 0.590800\n",
      "Epoch 25, CIFAR-10 Batch 1:  Loss:     0.8417 Validation Accuracy: 0.586200\n",
      "Epoch 26, CIFAR-10 Batch 1:  Loss:     0.8019 Validation Accuracy: 0.599800\n",
      "Epoch 27, CIFAR-10 Batch 1:  Loss:     0.8096 Validation Accuracy: 0.592000\n",
      "Epoch 28, CIFAR-10 Batch 1:  Loss:     0.7101 Validation Accuracy: 0.613600\n",
      "Epoch 29, CIFAR-10 Batch 1:  Loss:     0.7053 Validation Accuracy: 0.602000\n",
      "Epoch 30, CIFAR-10 Batch 1:  Loss:     0.6249 Validation Accuracy: 0.622400\n",
      "Epoch 31, CIFAR-10 Batch 1:  Loss:     0.6620 Validation Accuracy: 0.613200\n",
      "Epoch 32, CIFAR-10 Batch 1:  Loss:     0.6342 Validation Accuracy: 0.617200\n",
      "Epoch 33, CIFAR-10 Batch 1:  Loss:     0.6049 Validation Accuracy: 0.616800\n",
      "Epoch 34, CIFAR-10 Batch 1:  Loss:     0.5757 Validation Accuracy: 0.626600\n",
      "Epoch 35, CIFAR-10 Batch 1:  Loss:     0.5661 Validation Accuracy: 0.622200\n",
      "Epoch 36, CIFAR-10 Batch 1:  Loss:     0.5401 Validation Accuracy: 0.614600\n",
      "Epoch 37, CIFAR-10 Batch 1:  Loss:     0.4860 Validation Accuracy: 0.626800\n",
      "Epoch 38, CIFAR-10 Batch 1:  Loss:     0.4815 Validation Accuracy: 0.616200\n",
      "Epoch 39, CIFAR-10 Batch 1:  Loss:     0.4400 Validation Accuracy: 0.627600\n",
      "Epoch 40, CIFAR-10 Batch 1:  Loss:     0.4812 Validation Accuracy: 0.618600\n",
      "Epoch 41, CIFAR-10 Batch 1:  Loss:     0.4544 Validation Accuracy: 0.630600\n",
      "Epoch 42, CIFAR-10 Batch 1:  Loss:     0.3970 Validation Accuracy: 0.638600\n",
      "Epoch 43, CIFAR-10 Batch 1:  Loss:     0.3583 Validation Accuracy: 0.637800\n",
      "Epoch 44, CIFAR-10 Batch 1:  Loss:     0.3341 Validation Accuracy: 0.641400\n",
      "Epoch 45, CIFAR-10 Batch 1:  Loss:     0.3198 Validation Accuracy: 0.638400\n",
      "Epoch 46, CIFAR-10 Batch 1:  Loss:     0.3077 Validation Accuracy: 0.632000\n",
      "Epoch 47, CIFAR-10 Batch 1:  Loss:     0.2537 Validation Accuracy: 0.643400\n",
      "Epoch 48, CIFAR-10 Batch 1:  Loss:     0.2497 Validation Accuracy: 0.643600\n",
      "Epoch 49, CIFAR-10 Batch 1:  Loss:     0.2250 Validation Accuracy: 0.643000\n",
      "Epoch 50, CIFAR-10 Batch 1:  Loss:     0.2223 Validation Accuracy: 0.639000\n"
     ]
    }
   ],
   "source": [
    "\"\"\"\n",
    "DON'T MODIFY ANYTHING IN THIS CELL\n",
    "\"\"\"\n",
    "print('Checking the Training on a Single Batch...')\n",
    "with tf.Session() as sess:\n",
    "    # Initializing the variables\n",
    "    sess.run(tf.global_variables_initializer())\n",
    "    \n",
    "    # Training cycle\n",
    "    for epoch in range(epochs):\n",
    "        batch_i = 1\n",
    "        for batch_features, batch_labels in helper.load_preprocess_training_batch(batch_i, batch_size):\n",
    "            train_neural_network(sess, optimizer, keep_probability, batch_features, batch_labels)\n",
    "        print('Epoch {:>2}, CIFAR-10 Batch {}:  '.format(epoch + 1, batch_i), end='')\n",
    "        print_stats(sess, batch_features, batch_labels, cost, accuracy)"
   ]
  },
  {
   "cell_type": "markdown",
   "metadata": {
    "deletable": true,
    "editable": true
   },
   "source": [
    "### Fully Train the Model\n",
    "Now that you got a good accuracy with a single CIFAR-10 batch, try it with all five batches."
   ]
  },
  {
   "cell_type": "code",
   "execution_count": 25,
   "metadata": {
    "collapsed": false,
    "deletable": true,
    "editable": true
   },
   "outputs": [
    {
     "name": "stdout",
     "output_type": "stream",
     "text": [
      "Training...\n",
      "Epoch  1, CIFAR-10 Batch 1:  Loss:     2.0992 Validation Accuracy: 0.227000\n",
      "Epoch  1, CIFAR-10 Batch 2:  Loss:     1.8807 Validation Accuracy: 0.343800\n",
      "Epoch  1, CIFAR-10 Batch 3:  Loss:     1.7493 Validation Accuracy: 0.359000\n",
      "Epoch  1, CIFAR-10 Batch 4:  Loss:     1.6759 Validation Accuracy: 0.400400\n",
      "Epoch  1, CIFAR-10 Batch 5:  Loss:     1.6367 Validation Accuracy: 0.414600\n",
      "Epoch  2, CIFAR-10 Batch 1:  Loss:     1.6000 Validation Accuracy: 0.416200\n",
      "Epoch  2, CIFAR-10 Batch 2:  Loss:     1.5808 Validation Accuracy: 0.422600\n",
      "Epoch  2, CIFAR-10 Batch 3:  Loss:     1.4311 Validation Accuracy: 0.459600\n",
      "Epoch  2, CIFAR-10 Batch 4:  Loss:     1.4176 Validation Accuracy: 0.471200\n",
      "Epoch  2, CIFAR-10 Batch 5:  Loss:     1.4342 Validation Accuracy: 0.485200\n",
      "Epoch  3, CIFAR-10 Batch 1:  Loss:     1.3814 Validation Accuracy: 0.494200\n",
      "Epoch  3, CIFAR-10 Batch 2:  Loss:     1.4105 Validation Accuracy: 0.479800\n",
      "Epoch  3, CIFAR-10 Batch 3:  Loss:     1.2892 Validation Accuracy: 0.507800\n",
      "Epoch  3, CIFAR-10 Batch 4:  Loss:     1.2875 Validation Accuracy: 0.513200\n",
      "Epoch  3, CIFAR-10 Batch 5:  Loss:     1.2929 Validation Accuracy: 0.527200\n",
      "Epoch  4, CIFAR-10 Batch 1:  Loss:     1.2517 Validation Accuracy: 0.536200\n",
      "Epoch  4, CIFAR-10 Batch 2:  Loss:     1.3211 Validation Accuracy: 0.509400\n",
      "Epoch  4, CIFAR-10 Batch 3:  Loss:     1.1769 Validation Accuracy: 0.545000\n",
      "Epoch  4, CIFAR-10 Batch 4:  Loss:     1.1772 Validation Accuracy: 0.552600\n",
      "Epoch  4, CIFAR-10 Batch 5:  Loss:     1.1864 Validation Accuracy: 0.556600\n",
      "Epoch  5, CIFAR-10 Batch 1:  Loss:     1.1966 Validation Accuracy: 0.550400\n",
      "Epoch  5, CIFAR-10 Batch 2:  Loss:     1.1912 Validation Accuracy: 0.569600\n",
      "Epoch  5, CIFAR-10 Batch 3:  Loss:     1.0916 Validation Accuracy: 0.574800\n",
      "Epoch  5, CIFAR-10 Batch 4:  Loss:     1.0935 Validation Accuracy: 0.579400\n",
      "Epoch  5, CIFAR-10 Batch 5:  Loss:     1.1169 Validation Accuracy: 0.567600\n",
      "Epoch  6, CIFAR-10 Batch 1:  Loss:     1.1284 Validation Accuracy: 0.565600\n",
      "Epoch  6, CIFAR-10 Batch 2:  Loss:     1.1040 Validation Accuracy: 0.591800\n",
      "Epoch  6, CIFAR-10 Batch 3:  Loss:     1.0344 Validation Accuracy: 0.587600\n",
      "Epoch  6, CIFAR-10 Batch 4:  Loss:     1.0289 Validation Accuracy: 0.607000\n",
      "Epoch  6, CIFAR-10 Batch 5:  Loss:     1.0334 Validation Accuracy: 0.596200\n",
      "Epoch  7, CIFAR-10 Batch 1:  Loss:     1.0371 Validation Accuracy: 0.595600\n",
      "Epoch  7, CIFAR-10 Batch 2:  Loss:     1.0603 Validation Accuracy: 0.597600\n",
      "Epoch  7, CIFAR-10 Batch 3:  Loss:     0.9770 Validation Accuracy: 0.605600\n",
      "Epoch  7, CIFAR-10 Batch 4:  Loss:     0.9697 Validation Accuracy: 0.627400\n",
      "Epoch  7, CIFAR-10 Batch 5:  Loss:     0.9325 Validation Accuracy: 0.630400\n",
      "Epoch  8, CIFAR-10 Batch 1:  Loss:     0.9600 Validation Accuracy: 0.619000\n",
      "Epoch  8, CIFAR-10 Batch 2:  Loss:     1.0138 Validation Accuracy: 0.606400\n",
      "Epoch  8, CIFAR-10 Batch 3:  Loss:     0.9128 Validation Accuracy: 0.631000\n",
      "Epoch  8, CIFAR-10 Batch 4:  Loss:     0.9159 Validation Accuracy: 0.642800\n",
      "Epoch  8, CIFAR-10 Batch 5:  Loss:     0.8868 Validation Accuracy: 0.633800\n",
      "Epoch  9, CIFAR-10 Batch 1:  Loss:     0.8898 Validation Accuracy: 0.640000\n",
      "Epoch  9, CIFAR-10 Batch 2:  Loss:     0.9378 Validation Accuracy: 0.634600\n",
      "Epoch  9, CIFAR-10 Batch 3:  Loss:     0.8862 Validation Accuracy: 0.643000\n",
      "Epoch  9, CIFAR-10 Batch 4:  Loss:     0.8645 Validation Accuracy: 0.651600\n",
      "Epoch  9, CIFAR-10 Batch 5:  Loss:     0.8162 Validation Accuracy: 0.660000\n",
      "Epoch 10, CIFAR-10 Batch 1:  Loss:     0.8161 Validation Accuracy: 0.667800\n",
      "Epoch 10, CIFAR-10 Batch 2:  Loss:     0.9262 Validation Accuracy: 0.640200\n",
      "Epoch 10, CIFAR-10 Batch 3:  Loss:     0.8258 Validation Accuracy: 0.660200\n",
      "Epoch 10, CIFAR-10 Batch 4:  Loss:     0.8072 Validation Accuracy: 0.667400\n",
      "Epoch 10, CIFAR-10 Batch 5:  Loss:     0.7608 Validation Accuracy: 0.669200\n",
      "Epoch 11, CIFAR-10 Batch 1:  Loss:     0.7612 Validation Accuracy: 0.673600\n",
      "Epoch 11, CIFAR-10 Batch 2:  Loss:     0.8373 Validation Accuracy: 0.670800\n",
      "Epoch 11, CIFAR-10 Batch 3:  Loss:     0.7948 Validation Accuracy: 0.660400\n",
      "Epoch 11, CIFAR-10 Batch 4:  Loss:     0.7606 Validation Accuracy: 0.683600\n",
      "Epoch 11, CIFAR-10 Batch 5:  Loss:     0.7197 Validation Accuracy: 0.674000\n",
      "Epoch 12, CIFAR-10 Batch 1:  Loss:     0.7415 Validation Accuracy: 0.675800\n",
      "Epoch 12, CIFAR-10 Batch 2:  Loss:     0.7765 Validation Accuracy: 0.682200\n",
      "Epoch 12, CIFAR-10 Batch 3:  Loss:     0.7387 Validation Accuracy: 0.678400\n",
      "Epoch 12, CIFAR-10 Batch 4:  Loss:     0.7219 Validation Accuracy: 0.690000\n",
      "Epoch 12, CIFAR-10 Batch 5:  Loss:     0.6565 Validation Accuracy: 0.686000\n",
      "Epoch 13, CIFAR-10 Batch 1:  Loss:     0.6938 Validation Accuracy: 0.679200\n",
      "Epoch 13, CIFAR-10 Batch 2:  Loss:     0.7115 Validation Accuracy: 0.699600\n",
      "Epoch 13, CIFAR-10 Batch 3:  Loss:     0.6884 Validation Accuracy: 0.686000\n",
      "Epoch 13, CIFAR-10 Batch 4:  Loss:     0.6788 Validation Accuracy: 0.699400\n",
      "Epoch 13, CIFAR-10 Batch 5:  Loss:     0.6160 Validation Accuracy: 0.696400\n",
      "Epoch 14, CIFAR-10 Batch 1:  Loss:     0.6502 Validation Accuracy: 0.690000\n",
      "Epoch 14, CIFAR-10 Batch 2:  Loss:     0.6934 Validation Accuracy: 0.706000\n",
      "Epoch 14, CIFAR-10 Batch 3:  Loss:     0.6490 Validation Accuracy: 0.694000\n",
      "Epoch 14, CIFAR-10 Batch 4:  Loss:     0.6274 Validation Accuracy: 0.709400\n",
      "Epoch 14, CIFAR-10 Batch 5:  Loss:     0.5818 Validation Accuracy: 0.701000\n",
      "Epoch 15, CIFAR-10 Batch 1:  Loss:     0.6109 Validation Accuracy: 0.698600\n",
      "Epoch 15, CIFAR-10 Batch 2:  Loss:     0.6647 Validation Accuracy: 0.704800\n",
      "Epoch 15, CIFAR-10 Batch 3:  Loss:     0.6215 Validation Accuracy: 0.699000\n",
      "Epoch 15, CIFAR-10 Batch 4:  Loss:     0.5886 Validation Accuracy: 0.712000\n",
      "Epoch 15, CIFAR-10 Batch 5:  Loss:     0.5408 Validation Accuracy: 0.705400\n",
      "Epoch 16, CIFAR-10 Batch 1:  Loss:     0.5806 Validation Accuracy: 0.699600\n",
      "Epoch 16, CIFAR-10 Batch 2:  Loss:     0.6557 Validation Accuracy: 0.703400\n",
      "Epoch 16, CIFAR-10 Batch 3:  Loss:     0.6021 Validation Accuracy: 0.698400\n",
      "Epoch 16, CIFAR-10 Batch 4:  Loss:     0.5624 Validation Accuracy: 0.708400\n",
      "Epoch 16, CIFAR-10 Batch 5:  Loss:     0.5027 Validation Accuracy: 0.716000\n",
      "Epoch 17, CIFAR-10 Batch 1:  Loss:     0.5175 Validation Accuracy: 0.724000\n",
      "Epoch 17, CIFAR-10 Batch 2:  Loss:     0.5755 Validation Accuracy: 0.714800\n",
      "Epoch 17, CIFAR-10 Batch 3:  Loss:     0.5180 Validation Accuracy: 0.718200\n",
      "Epoch 17, CIFAR-10 Batch 4:  Loss:     0.5463 Validation Accuracy: 0.704800\n",
      "Epoch 17, CIFAR-10 Batch 5:  Loss:     0.4739 Validation Accuracy: 0.719600\n",
      "Epoch 18, CIFAR-10 Batch 1:  Loss:     0.5308 Validation Accuracy: 0.711800\n",
      "Epoch 18, CIFAR-10 Batch 2:  Loss:     0.5312 Validation Accuracy: 0.729800\n",
      "Epoch 18, CIFAR-10 Batch 3:  Loss:     0.4806 Validation Accuracy: 0.728600\n",
      "Epoch 18, CIFAR-10 Batch 4:  Loss:     0.4871 Validation Accuracy: 0.719000\n",
      "Epoch 18, CIFAR-10 Batch 5:  Loss:     0.4427 Validation Accuracy: 0.719800\n",
      "Epoch 19, CIFAR-10 Batch 1:  Loss:     0.5005 Validation Accuracy: 0.712400\n",
      "Epoch 19, CIFAR-10 Batch 2:  Loss:     0.5051 Validation Accuracy: 0.724800\n",
      "Epoch 19, CIFAR-10 Batch 3:  Loss:     0.4486 Validation Accuracy: 0.724400\n",
      "Epoch 19, CIFAR-10 Batch 4:  Loss:     0.4707 Validation Accuracy: 0.714400\n",
      "Epoch 19, CIFAR-10 Batch 5:  Loss:     0.4084 Validation Accuracy: 0.722200\n",
      "Epoch 20, CIFAR-10 Batch 1:  Loss:     0.4391 Validation Accuracy: 0.723800\n",
      "Epoch 20, CIFAR-10 Batch 2:  Loss:     0.4961 Validation Accuracy: 0.717200\n",
      "Epoch 20, CIFAR-10 Batch 3:  Loss:     0.4120 Validation Accuracy: 0.722400\n",
      "Epoch 20, CIFAR-10 Batch 4:  Loss:     0.4551 Validation Accuracy: 0.706400\n",
      "Epoch 20, CIFAR-10 Batch 5:  Loss:     0.4349 Validation Accuracy: 0.706400\n",
      "Epoch 21, CIFAR-10 Batch 1:  Loss:     0.4561 Validation Accuracy: 0.717800\n",
      "Epoch 21, CIFAR-10 Batch 2:  Loss:     0.4562 Validation Accuracy: 0.733800\n",
      "Epoch 21, CIFAR-10 Batch 3:  Loss:     0.4061 Validation Accuracy: 0.725200\n",
      "Epoch 21, CIFAR-10 Batch 4:  Loss:     0.4023 Validation Accuracy: 0.715000\n",
      "Epoch 21, CIFAR-10 Batch 5:  Loss:     0.3876 Validation Accuracy: 0.714400\n",
      "Epoch 22, CIFAR-10 Batch 1:  Loss:     0.3790 Validation Accuracy: 0.729600\n",
      "Epoch 22, CIFAR-10 Batch 2:  Loss:     0.4422 Validation Accuracy: 0.729800\n",
      "Epoch 22, CIFAR-10 Batch 3:  Loss:     0.3507 Validation Accuracy: 0.733800\n",
      "Epoch 22, CIFAR-10 Batch 4:  Loss:     0.3746 Validation Accuracy: 0.712800\n",
      "Epoch 22, CIFAR-10 Batch 5:  Loss:     0.3484 Validation Accuracy: 0.711800\n",
      "Epoch 23, CIFAR-10 Batch 1:  Loss:     0.3546 Validation Accuracy: 0.728400\n",
      "Epoch 23, CIFAR-10 Batch 2:  Loss:     0.4076 Validation Accuracy: 0.729000\n",
      "Epoch 23, CIFAR-10 Batch 3:  Loss:     0.3374 Validation Accuracy: 0.732400\n",
      "Epoch 23, CIFAR-10 Batch 4:  Loss:     0.3784 Validation Accuracy: 0.693400\n",
      "Epoch 23, CIFAR-10 Batch 5:  Loss:     0.3594 Validation Accuracy: 0.707400\n",
      "Epoch 24, CIFAR-10 Batch 1:  Loss:     0.4148 Validation Accuracy: 0.704200\n",
      "Epoch 24, CIFAR-10 Batch 2:  Loss:     0.3794 Validation Accuracy: 0.732600\n",
      "Epoch 24, CIFAR-10 Batch 3:  Loss:     0.3766 Validation Accuracy: 0.714400\n",
      "Epoch 24, CIFAR-10 Batch 4:  Loss:     0.3502 Validation Accuracy: 0.699800\n",
      "Epoch 24, CIFAR-10 Batch 5:  Loss:     0.3145 Validation Accuracy: 0.711600\n",
      "Epoch 25, CIFAR-10 Batch 1:  Loss:     0.3433 Validation Accuracy: 0.725600\n",
      "Epoch 25, CIFAR-10 Batch 2:  Loss:     0.3568 Validation Accuracy: 0.729400\n",
      "Epoch 25, CIFAR-10 Batch 3:  Loss:     0.3033 Validation Accuracy: 0.733000\n",
      "Epoch 25, CIFAR-10 Batch 4:  Loss:     0.3007 Validation Accuracy: 0.725000\n",
      "Epoch 25, CIFAR-10 Batch 5:  Loss:     0.3282 Validation Accuracy: 0.704400\n",
      "Epoch 26, CIFAR-10 Batch 1:  Loss:     0.3387 Validation Accuracy: 0.722600\n",
      "Epoch 26, CIFAR-10 Batch 2:  Loss:     0.3569 Validation Accuracy: 0.727600\n",
      "Epoch 26, CIFAR-10 Batch 3:  Loss:     0.2794 Validation Accuracy: 0.739000\n",
      "Epoch 26, CIFAR-10 Batch 4:  Loss:     0.3061 Validation Accuracy: 0.715800\n",
      "Epoch 26, CIFAR-10 Batch 5:  Loss:     0.2588 Validation Accuracy: 0.727200\n",
      "Epoch 27, CIFAR-10 Batch 1:  Loss:     0.3109 Validation Accuracy: 0.724000\n",
      "Epoch 27, CIFAR-10 Batch 2:  Loss:     0.3302 Validation Accuracy: 0.723800\n",
      "Epoch 27, CIFAR-10 Batch 3:  Loss:     0.2710 Validation Accuracy: 0.738600\n",
      "Epoch 27, CIFAR-10 Batch 4:  Loss:     0.2859 Validation Accuracy: 0.706800\n",
      "Epoch 27, CIFAR-10 Batch 5:  Loss:     0.3087 Validation Accuracy: 0.703000\n",
      "Epoch 28, CIFAR-10 Batch 1:  Loss:     0.3202 Validation Accuracy: 0.722400\n",
      "Epoch 28, CIFAR-10 Batch 2:  Loss:     0.3165 Validation Accuracy: 0.720200\n",
      "Epoch 28, CIFAR-10 Batch 3:  Loss:     0.2567 Validation Accuracy: 0.735400\n",
      "Epoch 28, CIFAR-10 Batch 4:  Loss:     0.2208 Validation Accuracy: 0.732800\n",
      "Epoch 28, CIFAR-10 Batch 5:  Loss:     0.2603 Validation Accuracy: 0.701200\n",
      "Epoch 29, CIFAR-10 Batch 1:  Loss:     0.2812 Validation Accuracy: 0.722600\n",
      "Epoch 29, CIFAR-10 Batch 2:  Loss:     0.2707 Validation Accuracy: 0.737400\n",
      "Epoch 29, CIFAR-10 Batch 3:  Loss:     0.2134 Validation Accuracy: 0.733200\n",
      "Epoch 29, CIFAR-10 Batch 4:  Loss:     0.1859 Validation Accuracy: 0.740400\n",
      "Epoch 29, CIFAR-10 Batch 5:  Loss:     0.1814 Validation Accuracy: 0.728600\n",
      "Epoch 30, CIFAR-10 Batch 1:  Loss:     0.2345 Validation Accuracy: 0.735600\n",
      "Epoch 30, CIFAR-10 Batch 2:  Loss:     0.2089 Validation Accuracy: 0.737200\n",
      "Epoch 30, CIFAR-10 Batch 3:  Loss:     0.2317 Validation Accuracy: 0.722800\n",
      "Epoch 30, CIFAR-10 Batch 4:  Loss:     0.1945 Validation Accuracy: 0.726200\n",
      "Epoch 30, CIFAR-10 Batch 5:  Loss:     0.2207 Validation Accuracy: 0.710400\n",
      "Epoch 31, CIFAR-10 Batch 1:  Loss:     0.2352 Validation Accuracy: 0.724400\n",
      "Epoch 31, CIFAR-10 Batch 2:  Loss:     0.2083 Validation Accuracy: 0.726400\n",
      "Epoch 31, CIFAR-10 Batch 3:  Loss:     0.1794 Validation Accuracy: 0.730600\n",
      "Epoch 31, CIFAR-10 Batch 4:  Loss:     0.1827 Validation Accuracy: 0.720200\n",
      "Epoch 31, CIFAR-10 Batch 5:  Loss:     0.1466 Validation Accuracy: 0.726400\n",
      "Epoch 32, CIFAR-10 Batch 1:  Loss:     0.1919 Validation Accuracy: 0.728000\n",
      "Epoch 32, CIFAR-10 Batch 2:  Loss:     0.2304 Validation Accuracy: 0.705800\n",
      "Epoch 32, CIFAR-10 Batch 3:  Loss:     0.1922 Validation Accuracy: 0.718800\n",
      "Epoch 32, CIFAR-10 Batch 4:  Loss:     0.1584 Validation Accuracy: 0.734200\n",
      "Epoch 32, CIFAR-10 Batch 5:  Loss:     0.1469 Validation Accuracy: 0.726000\n",
      "Epoch 33, CIFAR-10 Batch 1:  Loss:     0.1665 Validation Accuracy: 0.725000\n",
      "Epoch 33, CIFAR-10 Batch 2:  Loss:     0.2448 Validation Accuracy: 0.700200\n",
      "Epoch 33, CIFAR-10 Batch 3:  Loss:     0.2274 Validation Accuracy: 0.717200\n",
      "Epoch 33, CIFAR-10 Batch 4:  Loss:     0.1592 Validation Accuracy: 0.731400\n",
      "Epoch 33, CIFAR-10 Batch 5:  Loss:     0.1294 Validation Accuracy: 0.721800\n",
      "Epoch 34, CIFAR-10 Batch 1:  Loss:     0.1508 Validation Accuracy: 0.730000\n",
      "Epoch 34, CIFAR-10 Batch 2:  Loss:     0.1724 Validation Accuracy: 0.723800\n",
      "Epoch 34, CIFAR-10 Batch 3:  Loss:     0.1593 Validation Accuracy: 0.722200\n",
      "Epoch 34, CIFAR-10 Batch 4:  Loss:     0.1556 Validation Accuracy: 0.720600\n",
      "Epoch 34, CIFAR-10 Batch 5:  Loss:     0.1116 Validation Accuracy: 0.728200\n",
      "Epoch 35, CIFAR-10 Batch 1:  Loss:     0.1403 Validation Accuracy: 0.726600\n",
      "Epoch 35, CIFAR-10 Batch 2:  Loss:     0.1351 Validation Accuracy: 0.730000\n",
      "Epoch 35, CIFAR-10 Batch 3:  Loss:     0.1406 Validation Accuracy: 0.713600\n",
      "Epoch 35, CIFAR-10 Batch 4:  Loss:     0.1318 Validation Accuracy: 0.719800\n",
      "Epoch 35, CIFAR-10 Batch 5:  Loss:     0.0969 Validation Accuracy: 0.727400\n",
      "Epoch 36, CIFAR-10 Batch 1:  Loss:     0.1330 Validation Accuracy: 0.721400\n",
      "Epoch 36, CIFAR-10 Batch 2:  Loss:     0.1363 Validation Accuracy: 0.726000\n",
      "Epoch 36, CIFAR-10 Batch 3:  Loss:     0.1129 Validation Accuracy: 0.728800\n",
      "Epoch 36, CIFAR-10 Batch 4:  Loss:     0.1841 Validation Accuracy: 0.691800\n",
      "Epoch 36, CIFAR-10 Batch 5:  Loss:     0.1117 Validation Accuracy: 0.726400\n",
      "Epoch 37, CIFAR-10 Batch 1:  Loss:     0.1333 Validation Accuracy: 0.733000\n",
      "Epoch 37, CIFAR-10 Batch 2:  Loss:     0.1103 Validation Accuracy: 0.736600\n",
      "Epoch 37, CIFAR-10 Batch 3:  Loss:     0.1102 Validation Accuracy: 0.731600\n",
      "Epoch 37, CIFAR-10 Batch 4:  Loss:     0.1191 Validation Accuracy: 0.713600\n",
      "Epoch 37, CIFAR-10 Batch 5:  Loss:     0.1174 Validation Accuracy: 0.719800\n",
      "Epoch 38, CIFAR-10 Batch 1:  Loss:     0.1255 Validation Accuracy: 0.726400\n",
      "Epoch 38, CIFAR-10 Batch 2:  Loss:     0.1047 Validation Accuracy: 0.741400\n",
      "Epoch 38, CIFAR-10 Batch 3:  Loss:     0.0926 Validation Accuracy: 0.732200\n",
      "Epoch 38, CIFAR-10 Batch 4:  Loss:     0.1181 Validation Accuracy: 0.702200\n",
      "Epoch 38, CIFAR-10 Batch 5:  Loss:     0.0798 Validation Accuracy: 0.720600\n",
      "Epoch 39, CIFAR-10 Batch 1:  Loss:     0.0955 Validation Accuracy: 0.730200\n",
      "Epoch 39, CIFAR-10 Batch 2:  Loss:     0.0678 Validation Accuracy: 0.742200\n",
      "Epoch 39, CIFAR-10 Batch 3:  Loss:     0.0768 Validation Accuracy: 0.737400\n",
      "Epoch 39, CIFAR-10 Batch 4:  Loss:     0.0820 Validation Accuracy: 0.723600\n",
      "Epoch 39, CIFAR-10 Batch 5:  Loss:     0.1225 Validation Accuracy: 0.703800\n",
      "Epoch 40, CIFAR-10 Batch 1:  Loss:     0.1154 Validation Accuracy: 0.722000\n",
      "Epoch 40, CIFAR-10 Batch 2:  Loss:     0.1007 Validation Accuracy: 0.721800\n",
      "Epoch 40, CIFAR-10 Batch 3:  Loss:     0.0863 Validation Accuracy: 0.737600\n",
      "Epoch 40, CIFAR-10 Batch 4:  Loss:     0.0904 Validation Accuracy: 0.719200\n",
      "Epoch 40, CIFAR-10 Batch 5:  Loss:     0.0558 Validation Accuracy: 0.729600\n",
      "Epoch 41, CIFAR-10 Batch 1:  Loss:     0.0898 Validation Accuracy: 0.717800\n",
      "Epoch 41, CIFAR-10 Batch 2:  Loss:     0.0929 Validation Accuracy: 0.726000\n",
      "Epoch 41, CIFAR-10 Batch 3:  Loss:     0.0862 Validation Accuracy: 0.731800\n",
      "Epoch 41, CIFAR-10 Batch 4:  Loss:     0.0803 Validation Accuracy: 0.715400\n",
      "Epoch 41, CIFAR-10 Batch 5:  Loss:     0.0802 Validation Accuracy: 0.721400\n",
      "Epoch 42, CIFAR-10 Batch 1:  Loss:     0.0857 Validation Accuracy: 0.721200\n",
      "Epoch 42, CIFAR-10 Batch 2:  Loss:     0.0837 Validation Accuracy: 0.726000\n",
      "Epoch 42, CIFAR-10 Batch 3:  Loss:     0.0944 Validation Accuracy: 0.724000\n",
      "Epoch 42, CIFAR-10 Batch 4:  Loss:     0.0834 Validation Accuracy: 0.704800\n",
      "Epoch 42, CIFAR-10 Batch 5:  Loss:     0.0608 Validation Accuracy: 0.726200\n",
      "Epoch 43, CIFAR-10 Batch 1:  Loss:     0.0767 Validation Accuracy: 0.730600\n",
      "Epoch 43, CIFAR-10 Batch 2:  Loss:     0.0786 Validation Accuracy: 0.736600\n",
      "Epoch 43, CIFAR-10 Batch 3:  Loss:     0.0797 Validation Accuracy: 0.725600\n",
      "Epoch 43, CIFAR-10 Batch 4:  Loss:     0.0827 Validation Accuracy: 0.711000\n",
      "Epoch 43, CIFAR-10 Batch 5:  Loss:     0.0982 Validation Accuracy: 0.700800\n",
      "Epoch 44, CIFAR-10 Batch 1:  Loss:     0.0836 Validation Accuracy: 0.730800\n",
      "Epoch 44, CIFAR-10 Batch 2:  Loss:     0.0649 Validation Accuracy: 0.734400\n",
      "Epoch 44, CIFAR-10 Batch 3:  Loss:     0.0559 Validation Accuracy: 0.732600\n",
      "Epoch 44, CIFAR-10 Batch 4:  Loss:     0.0432 Validation Accuracy: 0.734600\n",
      "Epoch 44, CIFAR-10 Batch 5:  Loss:     0.0651 Validation Accuracy: 0.727600\n",
      "Epoch 45, CIFAR-10 Batch 1:  Loss:     0.0898 Validation Accuracy: 0.711800\n",
      "Epoch 45, CIFAR-10 Batch 2:  Loss:     0.0793 Validation Accuracy: 0.724800\n",
      "Epoch 45, CIFAR-10 Batch 3:  Loss:     0.0515 Validation Accuracy: 0.726200\n",
      "Epoch 45, CIFAR-10 Batch 4:  Loss:     0.0459 Validation Accuracy: 0.714400\n",
      "Epoch 45, CIFAR-10 Batch 5:  Loss:     0.0404 Validation Accuracy: 0.726200\n",
      "Epoch 46, CIFAR-10 Batch 1:  Loss:     0.0693 Validation Accuracy: 0.719600\n",
      "Epoch 46, CIFAR-10 Batch 2:  Loss:     0.0636 Validation Accuracy: 0.719000\n",
      "Epoch 46, CIFAR-10 Batch 3:  Loss:     0.0520 Validation Accuracy: 0.738600\n",
      "Epoch 46, CIFAR-10 Batch 4:  Loss:     0.0555 Validation Accuracy: 0.715800\n",
      "Epoch 46, CIFAR-10 Batch 5:  Loss:     0.0305 Validation Accuracy: 0.730400\n",
      "Epoch 47, CIFAR-10 Batch 1:  Loss:     0.0511 Validation Accuracy: 0.729000\n",
      "Epoch 47, CIFAR-10 Batch 2:  Loss:     0.0435 Validation Accuracy: 0.737200\n",
      "Epoch 47, CIFAR-10 Batch 3:  Loss:     0.0468 Validation Accuracy: 0.733400\n",
      "Epoch 47, CIFAR-10 Batch 4:  Loss:     0.0677 Validation Accuracy: 0.712800\n",
      "Epoch 47, CIFAR-10 Batch 5:  Loss:     0.0632 Validation Accuracy: 0.712600\n",
      "Epoch 48, CIFAR-10 Batch 1:  Loss:     0.0522 Validation Accuracy: 0.729400\n",
      "Epoch 48, CIFAR-10 Batch 2:  Loss:     0.0489 Validation Accuracy: 0.738400\n",
      "Epoch 48, CIFAR-10 Batch 3:  Loss:     0.0519 Validation Accuracy: 0.732200\n",
      "Epoch 48, CIFAR-10 Batch 4:  Loss:     0.0458 Validation Accuracy: 0.716600\n",
      "Epoch 48, CIFAR-10 Batch 5:  Loss:     0.0602 Validation Accuracy: 0.709200\n",
      "Epoch 49, CIFAR-10 Batch 1:  Loss:     0.0487 Validation Accuracy: 0.727000\n",
      "Epoch 49, CIFAR-10 Batch 2:  Loss:     0.0455 Validation Accuracy: 0.731200\n",
      "Epoch 49, CIFAR-10 Batch 3:  Loss:     0.0639 Validation Accuracy: 0.729200\n",
      "Epoch 49, CIFAR-10 Batch 4:  Loss:     0.0298 Validation Accuracy: 0.734200\n",
      "Epoch 49, CIFAR-10 Batch 5:  Loss:     0.0419 Validation Accuracy: 0.715000\n",
      "Epoch 50, CIFAR-10 Batch 1:  Loss:     0.0277 Validation Accuracy: 0.728600\n",
      "Epoch 50, CIFAR-10 Batch 2:  Loss:     0.0359 Validation Accuracy: 0.731200\n",
      "Epoch 50, CIFAR-10 Batch 3:  Loss:     0.0430 Validation Accuracy: 0.726600\n",
      "Epoch 50, CIFAR-10 Batch 4:  Loss:     0.0409 Validation Accuracy: 0.723200\n",
      "Epoch 50, CIFAR-10 Batch 5:  Loss:     0.0217 Validation Accuracy: 0.727600\n"
     ]
    }
   ],
   "source": [
    "\"\"\"\n",
    "DON'T MODIFY ANYTHING IN THIS CELL\n",
    "\"\"\"\n",
    "save_model_path = './image_classification'\n",
    "\n",
    "print('Training...')\n",
    "with tf.Session() as sess:\n",
    "    # Initializing the variables\n",
    "    sess.run(tf.global_variables_initializer())\n",
    "    \n",
    "    # Training cycle\n",
    "    for epoch in range(epochs):\n",
    "        # Loop over all batches\n",
    "        n_batches = 5\n",
    "        for batch_i in range(1, n_batches + 1):\n",
    "            for batch_features, batch_labels in helper.load_preprocess_training_batch(batch_i, batch_size):\n",
    "                train_neural_network(sess, optimizer, keep_probability, batch_features, batch_labels)\n",
    "            print('Epoch {:>2}, CIFAR-10 Batch {}:  '.format(epoch + 1, batch_i), end='')\n",
    "            print_stats(sess, batch_features, batch_labels, cost, accuracy)\n",
    "            \n",
    "    # Save Model\n",
    "    saver = tf.train.Saver()\n",
    "    save_path = saver.save(sess, save_model_path)"
   ]
  },
  {
   "cell_type": "markdown",
   "metadata": {
    "deletable": true,
    "editable": true
   },
   "source": [
    "# Checkpoint\n",
    "The model has been saved to disk.\n",
    "## Test Model\n",
    "Test your model against the test dataset.  This will be your final accuracy. You should have an accuracy greater than 50%. If you don't, keep tweaking the model architecture and parameters."
   ]
  },
  {
   "cell_type": "code",
   "execution_count": 26,
   "metadata": {
    "collapsed": false,
    "deletable": true,
    "editable": true
   },
   "outputs": [
    {
     "name": "stdout",
     "output_type": "stream",
     "text": [
      "Testing Accuracy: 0.7138073980808258\n",
      "\n"
     ]
    },
    {
     "data": {
      "image/png": "[encoded data removed]",
      "text/plain": [
       "<matplotlib.figure.Figure at 0x7f6d1a1f3f28>"
      ]
     },
     "metadata": {
      "image/png": {
       "height": 319,
       "width": 355
      }
     },
     "output_type": "display_data"
    }
   ],
   "source": [
    "\"\"\"\n",
    "DON'T MODIFY ANYTHING IN THIS CELL\n",
    "\"\"\"\n",
    "%matplotlib inline\n",
    "%config InlineBackend.figure_format = 'retina'\n",
    "\n",
    "import tensorflow as tf\n",
    "import pickle\n",
    "import helper\n",
    "import random\n",
    "\n",
    "# Set batch size if not already set\n",
    "try:\n",
    "    if batch_size:\n",
    "        pass\n",
    "except NameError:\n",
    "    batch_size = 64\n",
    "\n",
    "save_model_path = './image_classification'\n",
    "n_samples = 4\n",
    "top_n_predictions = 3\n",
    "\n",
    "def test_model():\n",
    "    \"\"\"\n",
    "    Test the saved model against the test dataset\n",
    "    \"\"\"\n",
    "\n",
    "    test_features, test_labels = pickle.load(open('preprocess_test.p', mode='rb'))\n",
    "    loaded_graph = tf.Graph()\n",
    "\n",
    "    with tf.Session(graph=loaded_graph) as sess:\n",
    "        # Load model\n",
    "        loader = tf.train.import_meta_graph(save_model_path + '.meta')\n",
    "        loader.restore(sess, save_model_path)\n",
    "\n",
    "        # Get Tensors from loaded model\n",
    "        loaded_x = loaded_graph.get_tensor_by_name('x:0')\n",
    "        loaded_y = loaded_graph.get_tensor_by_name('y:0')\n",
    "        loaded_keep_prob = loaded_graph.get_tensor_by_name('keep_prob:0')\n",
    "        loaded_logits = loaded_graph.get_tensor_by_name('logits:0')\n",
    "        loaded_acc = loaded_graph.get_tensor_by_name('accuracy:0')\n",
    "        \n",
    "        # Get accuracy in batches for memory limitations\n",
    "        test_batch_acc_total = 0\n",
    "        test_batch_count = 0\n",
    "        \n",
    "        for test_feature_batch, test_label_batch in helper.batch_features_labels(test_features, test_labels, batch_size):\n",
    "            test_batch_acc_total += sess.run(\n",
    "                loaded_acc,\n",
    "                feed_dict={loaded_x: test_feature_batch, loaded_y: test_label_batch, loaded_keep_prob: 1.0})\n",
    "            test_batch_count += 1\n",
    "\n",
    "        print('Testing Accuracy: {}\\n'.format(test_batch_acc_total/test_batch_count))\n",
    "\n",
    "        # Print Random Samples\n",
    "        random_test_features, random_test_labels = tuple(zip(*random.sample(list(zip(test_features, test_labels)), n_samples)))\n",
    "        random_test_predictions = sess.run(\n",
    "            tf.nn.top_k(tf.nn.softmax(loaded_logits), top_n_predictions),\n",
    "            feed_dict={loaded_x: random_test_features, loaded_y: random_test_labels, loaded_keep_prob: 1.0})\n",
    "        helper.display_image_predictions(random_test_features, random_test_labels, random_test_predictions)\n",
    "\n",
    "\n",
    "test_model()"
   ]
  },
  {
   "cell_type": "markdown",
   "metadata": {
    "deletable": true,
    "editable": true
   },
   "source": [
    "## Why 50-80% Accuracy?\n",
    "You might be wondering why you can't get an accuracy any higher. First things first, 50% isn't bad for a simple CNN.  Pure guessing would get you 10% accuracy. However, you might notice people are getting scores [well above 80%](http://rodrigob.github.io/are_we_there_yet/build/classification_datasets_results.html#43494641522d3130).  That's because we haven't taught you all there is to know about neural networks. We still need to cover a few more techniques.\n",
    "## Submitting This Project\n",
    "When submitting this project, make sure to run all the cells before saving the notebook.  Save the notebook file as \"dlnd_image_classification.ipynb\" and save it as a HTML file under \"File\" -> \"Download as\".  Include the \"helper.py\" and \"problem_unittests.py\" files in your submission."
   ]
  }
 ],
 "metadata": {
  "kernelspec": {
   "display_name": "Python 3",
   "language": "python",
   "name": "python3"
  },
  "language_info": {
   "codemirror_mode": {
    "name": "ipython",
    "version": 3
   },
   "file_extension": ".py",
   "mimetype": "text/x-python",
   "name": "python",
   "nbconvert_exporter": "python",
   "pygments_lexer": "ipython3",
   "version": "3.5.2"
  },
  "widgets": {
   "state": {},
   "version": "1.1.2"
  }
 },
 "nbformat": 4,
 "nbformat_minor": 1
}
